{
 "cells": [
  {
   "cell_type": "markdown",
   "id": "exotic-bangladesh",
   "metadata": {},
   "source": [
    "## Import"
   ]
  },
  {
   "cell_type": "code",
   "execution_count": 1,
   "id": "unlimited-microphone",
   "metadata": {},
   "outputs": [],
   "source": [
    "import pandas as pd\n",
    "import numpy as np\n",
    "import matplotlib.pyplot as plt\n",
    "import seaborn as sns\n",
    "import json\n",
    "import mypackage.utils as outils\n",
    "\n",
    "with open(\"../parameters.json\") as file:\n",
    "    params = json.load(file)"
   ]
  },
  {
   "cell_type": "code",
   "execution_count": 2,
   "id": "sealed-belize",
   "metadata": {},
   "outputs": [],
   "source": [
    "completeData = pd.read_csv(\"../data/raw/\" + params[\"raw_data\"])"
   ]
  },
  {
   "cell_type": "code",
   "execution_count": 3,
   "id": "cleared-discharge",
   "metadata": {},
   "outputs": [],
   "source": [
    "target = \"median_house_value\"\n",
    "features = completeData.drop(target, axis =1).columns"
   ]
  },
  {
   "cell_type": "code",
   "execution_count": 4,
   "id": "technical-minimum",
   "metadata": {},
   "outputs": [
    {
     "data": {
      "text/html": [
       "<div>\n",
       "<style scoped>\n",
       "    .dataframe tbody tr th:only-of-type {\n",
       "        vertical-align: middle;\n",
       "    }\n",
       "\n",
       "    .dataframe tbody tr th {\n",
       "        vertical-align: top;\n",
       "    }\n",
       "\n",
       "    .dataframe thead th {\n",
       "        text-align: right;\n",
       "    }\n",
       "</style>\n",
       "<table border=\"1\" class=\"dataframe\">\n",
       "  <thead>\n",
       "    <tr style=\"text-align: right;\">\n",
       "      <th></th>\n",
       "      <th>longitude</th>\n",
       "      <th>latitude</th>\n",
       "      <th>housing_median_age</th>\n",
       "      <th>total_rooms</th>\n",
       "      <th>total_bedrooms</th>\n",
       "      <th>population</th>\n",
       "      <th>households</th>\n",
       "      <th>median_income</th>\n",
       "      <th>median_house_value</th>\n",
       "    </tr>\n",
       "  </thead>\n",
       "  <tbody>\n",
       "    <tr>\n",
       "      <th>0</th>\n",
       "      <td>-114.31</td>\n",
       "      <td>34.19</td>\n",
       "      <td>15.0</td>\n",
       "      <td>5612.0</td>\n",
       "      <td>1283.0</td>\n",
       "      <td>1015.0</td>\n",
       "      <td>472.0</td>\n",
       "      <td>1.4936</td>\n",
       "      <td>66900.0</td>\n",
       "    </tr>\n",
       "    <tr>\n",
       "      <th>1</th>\n",
       "      <td>-114.47</td>\n",
       "      <td>34.40</td>\n",
       "      <td>19.0</td>\n",
       "      <td>7650.0</td>\n",
       "      <td>1901.0</td>\n",
       "      <td>1129.0</td>\n",
       "      <td>463.0</td>\n",
       "      <td>1.8200</td>\n",
       "      <td>80100.0</td>\n",
       "    </tr>\n",
       "    <tr>\n",
       "      <th>2</th>\n",
       "      <td>-114.56</td>\n",
       "      <td>33.69</td>\n",
       "      <td>17.0</td>\n",
       "      <td>720.0</td>\n",
       "      <td>174.0</td>\n",
       "      <td>333.0</td>\n",
       "      <td>117.0</td>\n",
       "      <td>1.6509</td>\n",
       "      <td>85700.0</td>\n",
       "    </tr>\n",
       "    <tr>\n",
       "      <th>3</th>\n",
       "      <td>-114.57</td>\n",
       "      <td>33.64</td>\n",
       "      <td>14.0</td>\n",
       "      <td>1501.0</td>\n",
       "      <td>337.0</td>\n",
       "      <td>515.0</td>\n",
       "      <td>226.0</td>\n",
       "      <td>3.1917</td>\n",
       "      <td>73400.0</td>\n",
       "    </tr>\n",
       "    <tr>\n",
       "      <th>4</th>\n",
       "      <td>-114.57</td>\n",
       "      <td>33.57</td>\n",
       "      <td>20.0</td>\n",
       "      <td>1454.0</td>\n",
       "      <td>326.0</td>\n",
       "      <td>624.0</td>\n",
       "      <td>262.0</td>\n",
       "      <td>1.9250</td>\n",
       "      <td>65500.0</td>\n",
       "    </tr>\n",
       "    <tr>\n",
       "      <th>...</th>\n",
       "      <td>...</td>\n",
       "      <td>...</td>\n",
       "      <td>...</td>\n",
       "      <td>...</td>\n",
       "      <td>...</td>\n",
       "      <td>...</td>\n",
       "      <td>...</td>\n",
       "      <td>...</td>\n",
       "      <td>...</td>\n",
       "    </tr>\n",
       "    <tr>\n",
       "      <th>19995</th>\n",
       "      <td>-119.86</td>\n",
       "      <td>34.42</td>\n",
       "      <td>23.0</td>\n",
       "      <td>1450.0</td>\n",
       "      <td>642.0</td>\n",
       "      <td>1258.0</td>\n",
       "      <td>607.0</td>\n",
       "      <td>1.1790</td>\n",
       "      <td>225000.0</td>\n",
       "    </tr>\n",
       "    <tr>\n",
       "      <th>19996</th>\n",
       "      <td>-118.14</td>\n",
       "      <td>34.06</td>\n",
       "      <td>27.0</td>\n",
       "      <td>5257.0</td>\n",
       "      <td>1082.0</td>\n",
       "      <td>3496.0</td>\n",
       "      <td>1036.0</td>\n",
       "      <td>3.3906</td>\n",
       "      <td>237200.0</td>\n",
       "    </tr>\n",
       "    <tr>\n",
       "      <th>19997</th>\n",
       "      <td>-119.70</td>\n",
       "      <td>36.30</td>\n",
       "      <td>10.0</td>\n",
       "      <td>956.0</td>\n",
       "      <td>201.0</td>\n",
       "      <td>693.0</td>\n",
       "      <td>220.0</td>\n",
       "      <td>2.2895</td>\n",
       "      <td>62000.0</td>\n",
       "    </tr>\n",
       "    <tr>\n",
       "      <th>19998</th>\n",
       "      <td>-117.12</td>\n",
       "      <td>34.10</td>\n",
       "      <td>40.0</td>\n",
       "      <td>96.0</td>\n",
       "      <td>14.0</td>\n",
       "      <td>46.0</td>\n",
       "      <td>14.0</td>\n",
       "      <td>3.2708</td>\n",
       "      <td>162500.0</td>\n",
       "    </tr>\n",
       "    <tr>\n",
       "      <th>19999</th>\n",
       "      <td>-119.63</td>\n",
       "      <td>34.42</td>\n",
       "      <td>42.0</td>\n",
       "      <td>1765.0</td>\n",
       "      <td>263.0</td>\n",
       "      <td>753.0</td>\n",
       "      <td>260.0</td>\n",
       "      <td>8.5608</td>\n",
       "      <td>500001.0</td>\n",
       "    </tr>\n",
       "  </tbody>\n",
       "</table>\n",
       "<p>20000 rows × 9 columns</p>\n",
       "</div>"
      ],
      "text/plain": [
       "       longitude  latitude  housing_median_age  total_rooms  total_bedrooms  \\\n",
       "0        -114.31     34.19                15.0       5612.0          1283.0   \n",
       "1        -114.47     34.40                19.0       7650.0          1901.0   \n",
       "2        -114.56     33.69                17.0        720.0           174.0   \n",
       "3        -114.57     33.64                14.0       1501.0           337.0   \n",
       "4        -114.57     33.57                20.0       1454.0           326.0   \n",
       "...          ...       ...                 ...          ...             ...   \n",
       "19995    -119.86     34.42                23.0       1450.0           642.0   \n",
       "19996    -118.14     34.06                27.0       5257.0          1082.0   \n",
       "19997    -119.70     36.30                10.0        956.0           201.0   \n",
       "19998    -117.12     34.10                40.0         96.0            14.0   \n",
       "19999    -119.63     34.42                42.0       1765.0           263.0   \n",
       "\n",
       "       population  households  median_income  median_house_value  \n",
       "0          1015.0       472.0         1.4936             66900.0  \n",
       "1          1129.0       463.0         1.8200             80100.0  \n",
       "2           333.0       117.0         1.6509             85700.0  \n",
       "3           515.0       226.0         3.1917             73400.0  \n",
       "4           624.0       262.0         1.9250             65500.0  \n",
       "...           ...         ...            ...                 ...  \n",
       "19995      1258.0       607.0         1.1790            225000.0  \n",
       "19996      3496.0      1036.0         3.3906            237200.0  \n",
       "19997       693.0       220.0         2.2895             62000.0  \n",
       "19998        46.0        14.0         3.2708            162500.0  \n",
       "19999       753.0       260.0         8.5608            500001.0  \n",
       "\n",
       "[20000 rows x 9 columns]"
      ]
     },
     "execution_count": 4,
     "metadata": {},
     "output_type": "execute_result"
    }
   ],
   "source": [
    "completeData"
   ]
  },
  {
   "cell_type": "markdown",
   "id": "humanitarian-aruba",
   "metadata": {},
   "source": [
    "## Exploration"
   ]
  },
  {
   "cell_type": "code",
   "execution_count": 5,
   "id": "exposed-suffering",
   "metadata": {},
   "outputs": [
    {
     "data": {
      "text/html": [
       "<div>\n",
       "<style scoped>\n",
       "    .dataframe tbody tr th:only-of-type {\n",
       "        vertical-align: middle;\n",
       "    }\n",
       "\n",
       "    .dataframe tbody tr th {\n",
       "        vertical-align: top;\n",
       "    }\n",
       "\n",
       "    .dataframe thead th {\n",
       "        text-align: right;\n",
       "    }\n",
       "</style>\n",
       "<table border=\"1\" class=\"dataframe\">\n",
       "  <thead>\n",
       "    <tr style=\"text-align: right;\">\n",
       "      <th></th>\n",
       "      <th>longitude</th>\n",
       "      <th>latitude</th>\n",
       "      <th>housing_median_age</th>\n",
       "      <th>total_rooms</th>\n",
       "      <th>total_bedrooms</th>\n",
       "      <th>population</th>\n",
       "      <th>households</th>\n",
       "      <th>median_income</th>\n",
       "      <th>median_house_value</th>\n",
       "    </tr>\n",
       "  </thead>\n",
       "  <tbody>\n",
       "    <tr>\n",
       "      <th>count</th>\n",
       "      <td>20000.000000</td>\n",
       "      <td>20000.000000</td>\n",
       "      <td>20000.000000</td>\n",
       "      <td>20000.000000</td>\n",
       "      <td>20000.000000</td>\n",
       "      <td>20000.000000</td>\n",
       "      <td>20000.000000</td>\n",
       "      <td>20000.000000</td>\n",
       "      <td>20000.000000</td>\n",
       "    </tr>\n",
       "    <tr>\n",
       "      <th>mean</th>\n",
       "      <td>-119.566172</td>\n",
       "      <td>35.626750</td>\n",
       "      <td>28.627750</td>\n",
       "      <td>2637.051550</td>\n",
       "      <td>537.991800</td>\n",
       "      <td>1425.557650</td>\n",
       "      <td>499.525450</td>\n",
       "      <td>3.872132</td>\n",
       "      <td>207082.716750</td>\n",
       "    </tr>\n",
       "    <tr>\n",
       "      <th>std</th>\n",
       "      <td>2.003609</td>\n",
       "      <td>2.136141</td>\n",
       "      <td>12.582229</td>\n",
       "      <td>2176.314757</td>\n",
       "      <td>420.631119</td>\n",
       "      <td>1131.048487</td>\n",
       "      <td>381.729517</td>\n",
       "      <td>1.900356</td>\n",
       "      <td>115557.055856</td>\n",
       "    </tr>\n",
       "    <tr>\n",
       "      <th>min</th>\n",
       "      <td>-124.350000</td>\n",
       "      <td>32.540000</td>\n",
       "      <td>1.000000</td>\n",
       "      <td>2.000000</td>\n",
       "      <td>1.000000</td>\n",
       "      <td>3.000000</td>\n",
       "      <td>1.000000</td>\n",
       "      <td>0.499900</td>\n",
       "      <td>14999.000000</td>\n",
       "    </tr>\n",
       "    <tr>\n",
       "      <th>25%</th>\n",
       "      <td>-121.790000</td>\n",
       "      <td>33.930000</td>\n",
       "      <td>18.000000</td>\n",
       "      <td>1451.000000</td>\n",
       "      <td>296.000000</td>\n",
       "      <td>788.000000</td>\n",
       "      <td>280.000000</td>\n",
       "      <td>2.562500</td>\n",
       "      <td>119800.000000</td>\n",
       "    </tr>\n",
       "    <tr>\n",
       "      <th>50%</th>\n",
       "      <td>-118.490000</td>\n",
       "      <td>34.250000</td>\n",
       "      <td>29.000000</td>\n",
       "      <td>2126.000000</td>\n",
       "      <td>434.000000</td>\n",
       "      <td>1166.000000</td>\n",
       "      <td>409.000000</td>\n",
       "      <td>3.536000</td>\n",
       "      <td>179800.000000</td>\n",
       "    </tr>\n",
       "    <tr>\n",
       "      <th>75%</th>\n",
       "      <td>-118.000000</td>\n",
       "      <td>37.710000</td>\n",
       "      <td>37.000000</td>\n",
       "      <td>3149.000000</td>\n",
       "      <td>647.000000</td>\n",
       "      <td>1724.000000</td>\n",
       "      <td>604.000000</td>\n",
       "      <td>4.745325</td>\n",
       "      <td>265000.000000</td>\n",
       "    </tr>\n",
       "    <tr>\n",
       "      <th>max</th>\n",
       "      <td>-114.310000</td>\n",
       "      <td>41.950000</td>\n",
       "      <td>52.000000</td>\n",
       "      <td>37937.000000</td>\n",
       "      <td>6445.000000</td>\n",
       "      <td>35682.000000</td>\n",
       "      <td>6082.000000</td>\n",
       "      <td>15.000100</td>\n",
       "      <td>500001.000000</td>\n",
       "    </tr>\n",
       "  </tbody>\n",
       "</table>\n",
       "</div>"
      ],
      "text/plain": [
       "          longitude      latitude  housing_median_age   total_rooms  \\\n",
       "count  20000.000000  20000.000000        20000.000000  20000.000000   \n",
       "mean    -119.566172     35.626750           28.627750   2637.051550   \n",
       "std        2.003609      2.136141           12.582229   2176.314757   \n",
       "min     -124.350000     32.540000            1.000000      2.000000   \n",
       "25%     -121.790000     33.930000           18.000000   1451.000000   \n",
       "50%     -118.490000     34.250000           29.000000   2126.000000   \n",
       "75%     -118.000000     37.710000           37.000000   3149.000000   \n",
       "max     -114.310000     41.950000           52.000000  37937.000000   \n",
       "\n",
       "       total_bedrooms    population    households  median_income  \\\n",
       "count    20000.000000  20000.000000  20000.000000   20000.000000   \n",
       "mean       537.991800   1425.557650    499.525450       3.872132   \n",
       "std        420.631119   1131.048487    381.729517       1.900356   \n",
       "min          1.000000      3.000000      1.000000       0.499900   \n",
       "25%        296.000000    788.000000    280.000000       2.562500   \n",
       "50%        434.000000   1166.000000    409.000000       3.536000   \n",
       "75%        647.000000   1724.000000    604.000000       4.745325   \n",
       "max       6445.000000  35682.000000   6082.000000      15.000100   \n",
       "\n",
       "       median_house_value  \n",
       "count        20000.000000  \n",
       "mean        207082.716750  \n",
       "std         115557.055856  \n",
       "min          14999.000000  \n",
       "25%         119800.000000  \n",
       "50%         179800.000000  \n",
       "75%         265000.000000  \n",
       "max         500001.000000  "
      ]
     },
     "execution_count": 5,
     "metadata": {},
     "output_type": "execute_result"
    }
   ],
   "source": [
    "completeData.describe()"
   ]
  },
  {
   "cell_type": "code",
   "execution_count": 6,
   "id": "dutch-paraguay",
   "metadata": {},
   "outputs": [
    {
     "name": "stderr",
     "output_type": "stream",
     "text": [
      "/usr/local/lib/python3.9/site-packages/seaborn/_decorators.py:36: FutureWarning: Pass the following variable as a keyword arg: x. From version 0.12, the only valid positional argument will be `data`, and passing other arguments without an explicit keyword will result in an error or misinterpretation.\n",
      "  warnings.warn(\n"
     ]
    },
    {
     "data": {
      "image/png": "[encoded data removed]",
      "text/plain": [
       "<Figure size 432x288 with 2 Axes>"
      ]
     },
     "metadata": {
      "needs_background": "light"
     },
     "output_type": "display_data"
    }
   ],
   "source": [
    "outils.histbox(completeData, target)"
   ]
  },
  {
   "cell_type": "code",
   "execution_count": 7,
   "id": "french-recruitment",
   "metadata": {},
   "outputs": [
    {
     "name": "stderr",
     "output_type": "stream",
     "text": [
      "/usr/local/lib/python3.9/site-packages/seaborn/_decorators.py:36: FutureWarning: Pass the following variable as a keyword arg: x. From version 0.12, the only valid positional argument will be `data`, and passing other arguments without an explicit keyword will result in an error or misinterpretation.\n",
      "  warnings.warn(\n"
     ]
    },
    {
     "data": {
      "image/png": "[encoded data removed]",
      "text/plain": [
       "<Figure size 432x288 with 2 Axes>"
      ]
     },
     "metadata": {
      "needs_background": "light"
     },
     "output_type": "display_data"
    },
    {
     "name": "stderr",
     "output_type": "stream",
     "text": [
      "/usr/local/lib/python3.9/site-packages/seaborn/_decorators.py:36: FutureWarning: Pass the following variable as a keyword arg: x. From version 0.12, the only valid positional argument will be `data`, and passing other arguments without an explicit keyword will result in an error or misinterpretation.\n",
      "  warnings.warn(\n"
     ]
    },
    {
     "data": {
      "image/png": "[encoded data removed]",
      "text/plain": [
       "<Figure size 432x288 with 2 Axes>"
      ]
     },
     "metadata": {
      "needs_background": "light"
     },
     "output_type": "display_data"
    },
    {
     "name": "stderr",
     "output_type": "stream",
     "text": [
      "/usr/local/lib/python3.9/site-packages/seaborn/_decorators.py:36: FutureWarning: Pass the following variable as a keyword arg: x. From version 0.12, the only valid positional argument will be `data`, and passing other arguments without an explicit keyword will result in an error or misinterpretation.\n",
      "  warnings.warn(\n"
     ]
    },
    {
     "data": {
      "image/png": "[encoded data removed]",
      "text/plain": [
       "<Figure size 432x288 with 2 Axes>"
      ]
     },
     "metadata": {
      "needs_background": "light"
     },
     "output_type": "display_data"
    },
    {
     "name": "stderr",
     "output_type": "stream",
     "text": [
      "/usr/local/lib/python3.9/site-packages/seaborn/_decorators.py:36: FutureWarning: Pass the following variable as a keyword arg: x. From version 0.12, the only valid positional argument will be `data`, and passing other arguments without an explicit keyword will result in an error or misinterpretation.\n",
      "  warnings.warn(\n"
     ]
    },
    {
     "data": {
      "image/png": "[encoded data removed]",
      "text/plain": [
       "<Figure size 432x288 with 2 Axes>"
      ]
     },
     "metadata": {
      "needs_background": "light"
     },
     "output_type": "display_data"
    },
    {
     "name": "stderr",
     "output_type": "stream",
     "text": [
      "/usr/local/lib/python3.9/site-packages/seaborn/_decorators.py:36: FutureWarning: Pass the following variable as a keyword arg: x. From version 0.12, the only valid positional argument will be `data`, and passing other arguments without an explicit keyword will result in an error or misinterpretation.\n",
      "  warnings.warn(\n"
     ]
    },
    {
     "data": {
      "image/png": "[encoded data removed]",
      "text/plain": [
       "<Figure size 432x288 with 2 Axes>"
      ]
     },
     "metadata": {
      "needs_background": "light"
     },
     "output_type": "display_data"
    },
    {
     "name": "stderr",
     "output_type": "stream",
     "text": [
      "/usr/local/lib/python3.9/site-packages/seaborn/_decorators.py:36: FutureWarning: Pass the following variable as a keyword arg: x. From version 0.12, the only valid positional argument will be `data`, and passing other arguments without an explicit keyword will result in an error or misinterpretation.\n",
      "  warnings.warn(\n"
     ]
    },
    {
     "data": {
      "image/png": "[encoded data removed]",
      "text/plain": [
       "<Figure size 432x288 with 2 Axes>"
      ]
     },
     "metadata": {
      "needs_background": "light"
     },
     "output_type": "display_data"
    },
    {
     "name": "stderr",
     "output_type": "stream",
     "text": [
      "/usr/local/lib/python3.9/site-packages/seaborn/_decorators.py:36: FutureWarning: Pass the following variable as a keyword arg: x. From version 0.12, the only valid positional argument will be `data`, and passing other arguments without an explicit keyword will result in an error or misinterpretation.\n",
      "  warnings.warn(\n"
     ]
    },
    {
     "data": {
      "image/png": "[encoded data removed]",
      "text/plain": [
       "<Figure size 432x288 with 2 Axes>"
      ]
     },
     "metadata": {
      "needs_background": "light"
     },
     "output_type": "display_data"
    },
    {
     "name": "stderr",
     "output_type": "stream",
     "text": [
      "/usr/local/lib/python3.9/site-packages/seaborn/_decorators.py:36: FutureWarning: Pass the following variable as a keyword arg: x. From version 0.12, the only valid positional argument will be `data`, and passing other arguments without an explicit keyword will result in an error or misinterpretation.\n",
      "  warnings.warn(\n"
     ]
    },
    {
     "data": {
      "image/png": "[encoded data removed]",
      "text/plain": [
       "<Figure size 432x288 with 2 Axes>"
      ]
     },
     "metadata": {
      "needs_background": "light"
     },
     "output_type": "display_data"
    }
   ],
   "source": [
    "for col_name in features:\n",
    "    outils.histbox(completeData, col_name)"
   ]
  },
  {
   "cell_type": "code",
   "execution_count": 8,
   "id": "freelance-directory",
   "metadata": {},
   "outputs": [
    {
     "name": "stdout",
     "output_type": "stream",
     "text": [
      "Counting the number of outliers : \n"
     ]
    },
    {
     "data": {
      "text/plain": [
       "longitude                0\n",
       "latitude                 0\n",
       "housing_median_age       0\n",
       "total_rooms           1253\n",
       "total_bedrooms        1252\n",
       "population            1167\n",
       "households            1190\n",
       "median_income          662\n",
       "median_house_value    1042\n",
       "dtype: int64"
      ]
     },
     "execution_count": 8,
     "metadata": {},
     "output_type": "execute_result"
    }
   ],
   "source": [
    "print(\"Counting the number of outliers : \")\n",
    "Q1 = completeData.quantile(0.25)\n",
    "Q3 = completeData.quantile(0.75)\n",
    "IQR = Q3 - Q1\n",
    "\n",
    "((completeData < (Q1 - 1.5 * IQR)) | (completeData > (Q3 + 1.5 * IQR))).sum()"
   ]
  },
  {
   "cell_type": "markdown",
   "id": "everyday-electron",
   "metadata": {},
   "source": [
    "## Cleaning"
   ]
  },
  {
   "cell_type": "code",
   "execution_count": 9,
   "id": "subtle-intention",
   "metadata": {},
   "outputs": [
    {
     "data": {
      "text/plain": [
       "0"
      ]
     },
     "execution_count": 9,
     "metadata": {},
     "output_type": "execute_result"
    }
   ],
   "source": [
    "completeData.duplicated().sum()"
   ]
  },
  {
   "cell_type": "markdown",
   "id": "blessed-blond",
   "metadata": {},
   "source": [
    "No duplicated data"
   ]
  },
  {
   "cell_type": "code",
   "execution_count": 10,
   "id": "available-return",
   "metadata": {},
   "outputs": [],
   "source": [
    "first_clean = completeData.copy()\n",
    "\n",
    "outlier_mask = (first_clean < (Q1 - 1.5 * IQR)) | (first_clean > (Q3 + 1.5 * IQR))\n",
    "first_clean[outlier_mask[target]] = np.nan"
   ]
  },
  {
   "cell_type": "code",
   "execution_count": 11,
   "id": "abroad-client",
   "metadata": {},
   "outputs": [
    {
     "data": {
      "text/plain": [
       "longitude             1042\n",
       "latitude              1042\n",
       "housing_median_age    1042\n",
       "total_rooms           1042\n",
       "total_bedrooms        1042\n",
       "population            1042\n",
       "households            1042\n",
       "median_income         1042\n",
       "median_house_value    1042\n",
       "dtype: int64"
      ]
     },
     "execution_count": 11,
     "metadata": {},
     "output_type": "execute_result"
    }
   ],
   "source": [
    "first_clean.isna().sum()"
   ]
  },
  {
   "cell_type": "markdown",
   "id": "defensive-coaching",
   "metadata": {},
   "source": [
    "- Got rid of all of the outliers in the target values (particularly the >500,000$ house values)\n",
    "- Reduced some of the features outliers"
   ]
  },
  {
   "cell_type": "code",
   "execution_count": 12,
   "id": "color-marble",
   "metadata": {},
   "outputs": [
    {
     "name": "stderr",
     "output_type": "stream",
     "text": [
      "/usr/local/lib/python3.9/site-packages/seaborn/_decorators.py:36: FutureWarning: Pass the following variable as a keyword arg: x. From version 0.12, the only valid positional argument will be `data`, and passing other arguments without an explicit keyword will result in an error or misinterpretation.\n",
      "  warnings.warn(\n"
     ]
    },
    {
     "data": {
      "image/png": "[encoded data removed]",
      "text/plain": [
       "<Figure size 432x288 with 2 Axes>"
      ]
     },
     "metadata": {
      "needs_background": "light"
     },
     "output_type": "display_data"
    }
   ],
   "source": [
    "outils.histbox(first_clean, target)"
   ]
  },
  {
   "cell_type": "code",
   "execution_count": 13,
   "id": "northern-claim",
   "metadata": {},
   "outputs": [
    {
     "data": {
      "text/html": [
       "<div>\n",
       "<style scoped>\n",
       "    .dataframe tbody tr th:only-of-type {\n",
       "        vertical-align: middle;\n",
       "    }\n",
       "\n",
       "    .dataframe tbody tr th {\n",
       "        vertical-align: top;\n",
       "    }\n",
       "\n",
       "    .dataframe thead th {\n",
       "        text-align: right;\n",
       "    }\n",
       "</style>\n",
       "<table border=\"1\" class=\"dataframe\">\n",
       "  <thead>\n",
       "    <tr style=\"text-align: right;\">\n",
       "      <th></th>\n",
       "      <th>longitude</th>\n",
       "      <th>latitude</th>\n",
       "      <th>housing_median_age</th>\n",
       "      <th>total_rooms</th>\n",
       "      <th>total_bedrooms</th>\n",
       "      <th>population</th>\n",
       "      <th>households</th>\n",
       "      <th>median_income</th>\n",
       "      <th>median_house_value</th>\n",
       "    </tr>\n",
       "  </thead>\n",
       "  <tbody>\n",
       "    <tr>\n",
       "      <th>0</th>\n",
       "      <td>-114.31</td>\n",
       "      <td>34.19</td>\n",
       "      <td>15.0</td>\n",
       "      <td>5612.0</td>\n",
       "      <td>1283.0</td>\n",
       "      <td>1015.0</td>\n",
       "      <td>472.0</td>\n",
       "      <td>1.4936</td>\n",
       "      <td>66900.0</td>\n",
       "    </tr>\n",
       "    <tr>\n",
       "      <th>1</th>\n",
       "      <td>-114.47</td>\n",
       "      <td>34.40</td>\n",
       "      <td>19.0</td>\n",
       "      <td>7650.0</td>\n",
       "      <td>1901.0</td>\n",
       "      <td>1129.0</td>\n",
       "      <td>463.0</td>\n",
       "      <td>1.8200</td>\n",
       "      <td>80100.0</td>\n",
       "    </tr>\n",
       "    <tr>\n",
       "      <th>2</th>\n",
       "      <td>-114.56</td>\n",
       "      <td>33.69</td>\n",
       "      <td>17.0</td>\n",
       "      <td>720.0</td>\n",
       "      <td>174.0</td>\n",
       "      <td>333.0</td>\n",
       "      <td>117.0</td>\n",
       "      <td>1.6509</td>\n",
       "      <td>85700.0</td>\n",
       "    </tr>\n",
       "    <tr>\n",
       "      <th>3</th>\n",
       "      <td>-114.57</td>\n",
       "      <td>33.64</td>\n",
       "      <td>14.0</td>\n",
       "      <td>1501.0</td>\n",
       "      <td>337.0</td>\n",
       "      <td>515.0</td>\n",
       "      <td>226.0</td>\n",
       "      <td>3.1917</td>\n",
       "      <td>73400.0</td>\n",
       "    </tr>\n",
       "    <tr>\n",
       "      <th>4</th>\n",
       "      <td>-114.57</td>\n",
       "      <td>33.57</td>\n",
       "      <td>20.0</td>\n",
       "      <td>1454.0</td>\n",
       "      <td>326.0</td>\n",
       "      <td>624.0</td>\n",
       "      <td>262.0</td>\n",
       "      <td>1.9250</td>\n",
       "      <td>65500.0</td>\n",
       "    </tr>\n",
       "    <tr>\n",
       "      <th>...</th>\n",
       "      <td>...</td>\n",
       "      <td>...</td>\n",
       "      <td>...</td>\n",
       "      <td>...</td>\n",
       "      <td>...</td>\n",
       "      <td>...</td>\n",
       "      <td>...</td>\n",
       "      <td>...</td>\n",
       "      <td>...</td>\n",
       "    </tr>\n",
       "    <tr>\n",
       "      <th>19994</th>\n",
       "      <td>-117.93</td>\n",
       "      <td>33.86</td>\n",
       "      <td>35.0</td>\n",
       "      <td>931.0</td>\n",
       "      <td>181.0</td>\n",
       "      <td>516.0</td>\n",
       "      <td>174.0</td>\n",
       "      <td>5.5867</td>\n",
       "      <td>182500.0</td>\n",
       "    </tr>\n",
       "    <tr>\n",
       "      <th>19995</th>\n",
       "      <td>-119.86</td>\n",
       "      <td>34.42</td>\n",
       "      <td>23.0</td>\n",
       "      <td>1450.0</td>\n",
       "      <td>642.0</td>\n",
       "      <td>1258.0</td>\n",
       "      <td>607.0</td>\n",
       "      <td>1.1790</td>\n",
       "      <td>225000.0</td>\n",
       "    </tr>\n",
       "    <tr>\n",
       "      <th>19996</th>\n",
       "      <td>-118.14</td>\n",
       "      <td>34.06</td>\n",
       "      <td>27.0</td>\n",
       "      <td>5257.0</td>\n",
       "      <td>1082.0</td>\n",
       "      <td>3496.0</td>\n",
       "      <td>1036.0</td>\n",
       "      <td>3.3906</td>\n",
       "      <td>237200.0</td>\n",
       "    </tr>\n",
       "    <tr>\n",
       "      <th>19997</th>\n",
       "      <td>-119.70</td>\n",
       "      <td>36.30</td>\n",
       "      <td>10.0</td>\n",
       "      <td>956.0</td>\n",
       "      <td>201.0</td>\n",
       "      <td>693.0</td>\n",
       "      <td>220.0</td>\n",
       "      <td>2.2895</td>\n",
       "      <td>62000.0</td>\n",
       "    </tr>\n",
       "    <tr>\n",
       "      <th>19998</th>\n",
       "      <td>-117.12</td>\n",
       "      <td>34.10</td>\n",
       "      <td>40.0</td>\n",
       "      <td>96.0</td>\n",
       "      <td>14.0</td>\n",
       "      <td>46.0</td>\n",
       "      <td>14.0</td>\n",
       "      <td>3.2708</td>\n",
       "      <td>162500.0</td>\n",
       "    </tr>\n",
       "  </tbody>\n",
       "</table>\n",
       "<p>18958 rows × 9 columns</p>\n",
       "</div>"
      ],
      "text/plain": [
       "       longitude  latitude  housing_median_age  total_rooms  total_bedrooms  \\\n",
       "0        -114.31     34.19                15.0       5612.0          1283.0   \n",
       "1        -114.47     34.40                19.0       7650.0          1901.0   \n",
       "2        -114.56     33.69                17.0        720.0           174.0   \n",
       "3        -114.57     33.64                14.0       1501.0           337.0   \n",
       "4        -114.57     33.57                20.0       1454.0           326.0   \n",
       "...          ...       ...                 ...          ...             ...   \n",
       "19994    -117.93     33.86                35.0        931.0           181.0   \n",
       "19995    -119.86     34.42                23.0       1450.0           642.0   \n",
       "19996    -118.14     34.06                27.0       5257.0          1082.0   \n",
       "19997    -119.70     36.30                10.0        956.0           201.0   \n",
       "19998    -117.12     34.10                40.0         96.0            14.0   \n",
       "\n",
       "       population  households  median_income  median_house_value  \n",
       "0          1015.0       472.0         1.4936             66900.0  \n",
       "1          1129.0       463.0         1.8200             80100.0  \n",
       "2           333.0       117.0         1.6509             85700.0  \n",
       "3           515.0       226.0         3.1917             73400.0  \n",
       "4           624.0       262.0         1.9250             65500.0  \n",
       "...           ...         ...            ...                 ...  \n",
       "19994       516.0       174.0         5.5867            182500.0  \n",
       "19995      1258.0       607.0         1.1790            225000.0  \n",
       "19996      3496.0      1036.0         3.3906            237200.0  \n",
       "19997       693.0       220.0         2.2895             62000.0  \n",
       "19998        46.0        14.0         3.2708            162500.0  \n",
       "\n",
       "[18958 rows x 9 columns]"
      ]
     },
     "execution_count": 13,
     "metadata": {},
     "output_type": "execute_result"
    }
   ],
   "source": [
    "second_clean = first_clean[first_clean[target].isna() == False]\n",
    "second_clean"
   ]
  },
  {
   "cell_type": "code",
   "execution_count": 14,
   "id": "medium-closing",
   "metadata": {},
   "outputs": [
    {
     "name": "stderr",
     "output_type": "stream",
     "text": [
      "/usr/local/lib/python3.9/site-packages/seaborn/_decorators.py:36: FutureWarning: Pass the following variable as a keyword arg: x. From version 0.12, the only valid positional argument will be `data`, and passing other arguments without an explicit keyword will result in an error or misinterpretation.\n",
      "  warnings.warn(\n"
     ]
    },
    {
     "data": {
      "image/png": "[encoded data removed]",
      "text/plain": [
       "<Figure size 432x288 with 2 Axes>"
      ]
     },
     "metadata": {
      "needs_background": "light"
     },
     "output_type": "display_data"
    }
   ],
   "source": [
    "outils.histbox(second_clean, target)"
   ]
  },
  {
   "cell_type": "code",
   "execution_count": 15,
   "id": "preliminary-somalia",
   "metadata": {},
   "outputs": [
    {
     "name": "stdout",
     "output_type": "stream",
     "text": [
      "longitude               0\n",
      "latitude                0\n",
      "housing_median_age      0\n",
      "total_rooms           248\n",
      "total_bedrooms        225\n",
      "population            203\n",
      "households            198\n",
      "median_income           9\n",
      "median_house_value      0\n",
      "dtype: int64\n",
      "883\n",
      "338\n"
     ]
    },
    {
     "data": {
      "text/html": [
       "<div>\n",
       "<style scoped>\n",
       "    .dataframe tbody tr th:only-of-type {\n",
       "        vertical-align: middle;\n",
       "    }\n",
       "\n",
       "    .dataframe tbody tr th {\n",
       "        vertical-align: top;\n",
       "    }\n",
       "\n",
       "    .dataframe thead th {\n",
       "        text-align: right;\n",
       "    }\n",
       "</style>\n",
       "<table border=\"1\" class=\"dataframe\">\n",
       "  <thead>\n",
       "    <tr style=\"text-align: right;\">\n",
       "      <th></th>\n",
       "      <th>longitude</th>\n",
       "      <th>latitude</th>\n",
       "      <th>housing_median_age</th>\n",
       "      <th>total_rooms</th>\n",
       "      <th>total_bedrooms</th>\n",
       "      <th>population</th>\n",
       "      <th>households</th>\n",
       "      <th>median_income</th>\n",
       "      <th>median_house_value</th>\n",
       "    </tr>\n",
       "  </thead>\n",
       "  <tbody>\n",
       "    <tr>\n",
       "      <th>count</th>\n",
       "      <td>18620.000000</td>\n",
       "      <td>18620.000000</td>\n",
       "      <td>18620.000000</td>\n",
       "      <td>18620.000000</td>\n",
       "      <td>18620.000000</td>\n",
       "      <td>18620.000000</td>\n",
       "      <td>18620.000000</td>\n",
       "      <td>18620.000000</td>\n",
       "      <td>18620.000000</td>\n",
       "    </tr>\n",
       "    <tr>\n",
       "      <th>mean</th>\n",
       "      <td>-119.569900</td>\n",
       "      <td>35.657995</td>\n",
       "      <td>28.621697</td>\n",
       "      <td>2437.876907</td>\n",
       "      <td>505.481686</td>\n",
       "      <td>1352.724651</td>\n",
       "      <td>470.804834</td>\n",
       "      <td>3.649666</td>\n",
       "      <td>190598.410097</td>\n",
       "    </tr>\n",
       "    <tr>\n",
       "      <th>std</th>\n",
       "      <td>2.004495</td>\n",
       "      <td>2.154428</td>\n",
       "      <td>12.379534</td>\n",
       "      <td>1541.936398</td>\n",
       "      <td>314.032996</td>\n",
       "      <td>834.754425</td>\n",
       "      <td>287.920830</td>\n",
       "      <td>1.542256</td>\n",
       "      <td>95600.464285</td>\n",
       "    </tr>\n",
       "    <tr>\n",
       "      <th>min</th>\n",
       "      <td>-124.350000</td>\n",
       "      <td>32.540000</td>\n",
       "      <td>1.000000</td>\n",
       "      <td>2.000000</td>\n",
       "      <td>2.000000</td>\n",
       "      <td>3.000000</td>\n",
       "      <td>2.000000</td>\n",
       "      <td>0.499900</td>\n",
       "      <td>14999.000000</td>\n",
       "    </tr>\n",
       "    <tr>\n",
       "      <th>25%</th>\n",
       "      <td>-121.770000</td>\n",
       "      <td>33.930000</td>\n",
       "      <td>18.000000</td>\n",
       "      <td>1431.000000</td>\n",
       "      <td>295.000000</td>\n",
       "      <td>792.000000</td>\n",
       "      <td>280.000000</td>\n",
       "      <td>2.515600</td>\n",
       "      <td>115600.000000</td>\n",
       "    </tr>\n",
       "    <tr>\n",
       "      <th>50%</th>\n",
       "      <td>-118.510000</td>\n",
       "      <td>34.270000</td>\n",
       "      <td>29.000000</td>\n",
       "      <td>2084.000000</td>\n",
       "      <td>431.000000</td>\n",
       "      <td>1167.000000</td>\n",
       "      <td>406.000000</td>\n",
       "      <td>3.425000</td>\n",
       "      <td>172750.000000</td>\n",
       "    </tr>\n",
       "    <tr>\n",
       "      <th>75%</th>\n",
       "      <td>-118.000000</td>\n",
       "      <td>37.730000</td>\n",
       "      <td>37.000000</td>\n",
       "      <td>3056.000000</td>\n",
       "      <td>634.000000</td>\n",
       "      <td>1704.000000</td>\n",
       "      <td>591.250000</td>\n",
       "      <td>4.555375</td>\n",
       "      <td>246025.000000</td>\n",
       "    </tr>\n",
       "    <tr>\n",
       "      <th>max</th>\n",
       "      <td>-114.310000</td>\n",
       "      <td>41.950000</td>\n",
       "      <td>52.000000</td>\n",
       "      <td>10098.000000</td>\n",
       "      <td>2111.000000</td>\n",
       "      <td>5682.000000</td>\n",
       "      <td>1946.000000</td>\n",
       "      <td>11.013800</td>\n",
       "      <td>482700.000000</td>\n",
       "    </tr>\n",
       "  </tbody>\n",
       "</table>\n",
       "</div>"
      ],
      "text/plain": [
       "          longitude      latitude  housing_median_age   total_rooms  \\\n",
       "count  18620.000000  18620.000000        18620.000000  18620.000000   \n",
       "mean    -119.569900     35.657995           28.621697   2437.876907   \n",
       "std        2.004495      2.154428           12.379534   1541.936398   \n",
       "min     -124.350000     32.540000            1.000000      2.000000   \n",
       "25%     -121.770000     33.930000           18.000000   1431.000000   \n",
       "50%     -118.510000     34.270000           29.000000   2084.000000   \n",
       "75%     -118.000000     37.730000           37.000000   3056.000000   \n",
       "max     -114.310000     41.950000           52.000000  10098.000000   \n",
       "\n",
       "       total_bedrooms    population    households  median_income  \\\n",
       "count    18620.000000  18620.000000  18620.000000   18620.000000   \n",
       "mean       505.481686   1352.724651    470.804834       3.649666   \n",
       "std        314.032996    834.754425    287.920830       1.542256   \n",
       "min          2.000000      3.000000      2.000000       0.499900   \n",
       "25%        295.000000    792.000000    280.000000       2.515600   \n",
       "50%        431.000000   1167.000000    406.000000       3.425000   \n",
       "75%        634.000000   1704.000000    591.250000       4.555375   \n",
       "max       2111.000000   5682.000000   1946.000000      11.013800   \n",
       "\n",
       "       median_house_value  \n",
       "count        18620.000000  \n",
       "mean        190598.410097  \n",
       "std          95600.464285  \n",
       "min          14999.000000  \n",
       "25%         115600.000000  \n",
       "50%         172750.000000  \n",
       "75%         246025.000000  \n",
       "max         482700.000000  "
      ]
     },
     "execution_count": 15,
     "metadata": {},
     "output_type": "execute_result"
    }
   ],
   "source": [
    "rangeDist = 0.10\n",
    "Q1 = second_clean.quantile(rangeDist)\n",
    "Q3 = second_clean.quantile(1-rangeDist)\n",
    "IQR = Q3 - Q1\n",
    "\n",
    "hard_mask = (second_clean < (Q1 - 1.5 * IQR)) | (second_clean > (Q3 + 1.5 * IQR))\n",
    "\n",
    "print(hard_mask.sum())\n",
    "print(hard_mask.sum().sum())\n",
    "\n",
    "print((second_clean[hard_mask].isna() == False).any(axis =1).sum())\n",
    "\n",
    "third_clean = second_clean[(second_clean[hard_mask].isna() == False).any(axis =1) == False]\n",
    "third_clean.describe()"
   ]
  },
  {
   "cell_type": "markdown",
   "id": "blond-ribbon",
   "metadata": {},
   "source": [
    "## Export"
   ]
  },
  {
   "cell_type": "code",
   "execution_count": 16,
   "id": "derived-sending",
   "metadata": {},
   "outputs": [],
   "source": [
    "from os import listdir\n",
    "from os.path import isfile, join\n",
    "import pathlib\n",
    "from datetime import datetime"
   ]
  },
  {
   "cell_type": "code",
   "execution_count": 28,
   "id": "arbitrary-siemens",
   "metadata": {},
   "outputs": [],
   "source": [
    "data_to_export = third_clean.copy()"
   ]
  },
  {
   "cell_type": "code",
   "execution_count": 19,
   "id": "timely-organ",
   "metadata": {},
   "outputs": [
    {
     "name": "stdout",
     "output_type": "stream",
     "text": [
      "current :  /Users/martinvielvoye/NetAquarium/scripts\n",
      "data :  /Users/martinvielvoye/NetAquarium/data/versions\n"
     ]
    }
   ],
   "source": [
    "current_path = pathlib.Path().resolve()\n",
    "print(\"current : \", current_path)\n",
    "data_folder = join(current_path.parent, \"data/versions\")\n",
    "print(\"data : \", data_folder)"
   ]
  },
  {
   "cell_type": "code",
   "execution_count": 58,
   "id": "acceptable-string",
   "metadata": {},
   "outputs": [
    {
     "data": {
      "text/plain": [
       "['V0.1_20220613-08h43:54.csv',\n",
       " 'V1.0_20220613-08h44:06.csv',\n",
       " 'V1.1_20220613-09h00:51.csv']"
      ]
     },
     "execution_count": 58,
     "metadata": {},
     "output_type": "execute_result"
    }
   ],
   "source": [
    "sorted(oldVersions)"
   ]
  },
  {
   "cell_type": "code",
   "execution_count": 76,
   "id": "august-suspension",
   "metadata": {},
   "outputs": [
    {
     "name": "stdout",
     "output_type": "stream",
     "text": [
      "No changes detected compared to last version. No data exported.\n",
      "Latest version is : V0.1_20220613-09h18:20.csv\n"
     ]
    }
   ],
   "source": [
    "majorUpdate = False\n",
    "oldVersions = sorted([f for f in listdir(data_folder) if isfile(join(data_folder, f))])\n",
    "\n",
    "date_format = \"%Y%m%d-%Hh%M:%S\"\n",
    "now = datetime.now()\n",
    "str_date = now.strftime(date_format)\n",
    "dataVersion = False\n",
    "if len(oldVersions) == 0:\n",
    "    dataVersion = \"V0.1_\" + str_date \n",
    "else:\n",
    "    #comparing the latest version with the current dataframe\n",
    "    latest_export_df = pd.read_csv(data_folder+\"/\"+ oldVersions[-1])\n",
    "    comparing_df = data_to_export.copy().reset_index(drop=True)\n",
    "\n",
    "    diff_df = pd.concat([latest_export_df, comparing_df]).drop_duplicates(keep = False)\n",
    "\n",
    "    #exporting the file\n",
    "    if(diff_df.size != 0):\n",
    "        oldest = str(oldVersions[-1])\n",
    "        version = outils.findVersionFromDataName(oldest)\n",
    "        if majorUpdate :\n",
    "            print(\"Exporting MAJOR data version...\")\n",
    "            dataVersion = \"V\" + str(int(version[0]) + 1) + \".0_\" + str_date\n",
    "        else : \n",
    "            print(\"Exporting MINOR data version...\")\n",
    "            dataVersion = \"V\" + version[0] + \".\" + str(int(version[1]) + 1) + \"_\" + str_date\n",
    "            \n",
    "    \n",
    "\n",
    "if dataVersion :\n",
    "    data_to_export.to_csv(data_folder + \"/\" + dataVersion + \".csv\", index = False)\n",
    "    print(\"Exported \"+dataVersion)\n",
    "else : \n",
    "    print(\"No changes detected compared to last version. No data exported.\")\n",
    "    print(\"Latest version is : \" + oldVersions[-1])\n",
    "\n"
   ]
  },
  {
   "cell_type": "code",
   "execution_count": null,
   "id": "fleet-selling",
   "metadata": {},
   "outputs": [],
   "source": []
  },
  {
   "cell_type": "code",
   "execution_count": null,
   "id": "passive-radar",
   "metadata": {},
   "outputs": [],
   "source": []
  }
 ],
 "metadata": {
  "kernelspec": {
   "display_name": "Python 3",
   "language": "python",
   "name": "python3"
  },
  "language_info": {
   "codemirror_mode": {
    "name": "ipython",
    "version": 3
   },
   "file_extension": ".py",
   "mimetype": "text/x-python",
   "name": "python",
   "nbconvert_exporter": "python",
   "pygments_lexer": "ipython3",
   "version": "3.9.6"
  }
 },
 "nbformat": 4,
 "nbformat_minor": 5
}
